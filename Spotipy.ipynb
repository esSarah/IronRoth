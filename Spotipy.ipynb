{
 "cells": [
  {
   "cell_type": "code",
   "execution_count": 1,
   "id": "4f22eaba",
   "metadata": {},
   "outputs": [],
   "source": [
    "import spotipy\n",
    "from spotipy.oauth2 import SpotifyClientCredentials\n",
    "import pandas as pd\n",
    "\n",
    "c_id = \"e88390e87bc6405c9e73ebb6b08d6e55\"\n",
    "c_se =\"nö\"\n",
    "\n",
    "#sp = spotipy.Spotify(auth_manager=SpotifyClientCredentials(client_id=c_id, client_secret=c_se))"
   ]
  },
  {
   "cell_type": "code",
   "execution_count": 2,
   "id": "a27afc6e",
   "metadata": {},
   "outputs": [],
   "source": [
    "from bs4 import BeautifulSoup\n",
    "import requests "
   ]
  },
  {
   "cell_type": "code",
   "execution_count": 3,
   "id": "fbc53220",
   "metadata": {},
   "outputs": [],
   "source": [
    "URL = 'https://www.billboard.com/charts/hot-100/'\n",
    "Top100Website = requests.get(URL)\n",
    "result = BeautifulSoup(Top100Website.content, 'html.parser')"
   ]
  },
  {
   "cell_type": "code",
   "execution_count": 4,
   "id": "65b5c43e",
   "metadata": {},
   "outputs": [],
   "source": [
    "result.find(\"span\", id=\"count_texttitle-of-a-story\")"
   ]
  },
  {
   "cell_type": "code",
   "execution_count": 5,
   "id": "865edfc3",
   "metadata": {},
   "outputs": [
    {
     "data": {
      "text/plain": [
       "200"
      ]
     },
     "execution_count": 5,
     "metadata": {},
     "output_type": "execute_result"
    }
   ],
   "source": [
    "Top100Website.status_code"
   ]
  },
  {
   "cell_type": "code",
   "execution_count": 6,
   "id": "747c1954",
   "metadata": {},
   "outputs": [],
   "source": [
    "#result"
   ]
  },
  {
   "cell_type": "code",
   "execution_count": null,
   "id": "91b7bf7a",
   "metadata": {},
   "outputs": [],
   "source": []
  },
  {
   "cell_type": "code",
   "execution_count": 7,
   "id": "120a0d92",
   "metadata": {
    "scrolled": false
   },
   "outputs": [],
   "source": [
    "line_number = 0\n",
    "place_number = 0\n",
    "Song = \"\";\n",
    "Artists = \"\";\n",
    "Top_100 = pd.DataFrame(columns=['place','song','artists'])\n",
    "\n",
    "for lines in result.find_all(\"li\", {\"o-chart-results-list__item\"}):\n",
    "    line_number += 1\n",
    "\n",
    " \n",
    "    if((line_number-4)%14==0):\n",
    "        place_number += 1\n",
    "        internal_line = 1\n",
    "        for current_line in lines.get_text().splitlines():\n",
    "\n",
    "            if(current_line.strip()!=\"\"):\n",
    "                if(internal_line==1):\n",
    "                    Song = current_line.strip()\n",
    "                else:\n",
    "                    Artists = current_line.strip()\n",
    "                    # \n",
    "                    Top_100.loc[place_number -1] = [place_number, Song, Artists]\n",
    " \n",
    "                internal_line += 1"
   ]
  },
  {
   "cell_type": "code",
   "execution_count": 8,
   "id": "270f42d9",
   "metadata": {},
   "outputs": [
    {
     "data": {
      "text/html": [
       "<div>\n",
       "<style scoped>\n",
       "    .dataframe tbody tr th:only-of-type {\n",
       "        vertical-align: middle;\n",
       "    }\n",
       "\n",
       "    .dataframe tbody tr th {\n",
       "        vertical-align: top;\n",
       "    }\n",
       "\n",
       "    .dataframe thead th {\n",
       "        text-align: right;\n",
       "    }\n",
       "</style>\n",
       "<table border=\"1\" class=\"dataframe\">\n",
       "  <thead>\n",
       "    <tr style=\"text-align: right;\">\n",
       "      <th></th>\n",
       "      <th>place</th>\n",
       "      <th>song</th>\n",
       "      <th>artists</th>\n",
       "    </tr>\n",
       "  </thead>\n",
       "  <tbody>\n",
       "    <tr>\n",
       "      <th>0</th>\n",
       "      <td>1</td>\n",
       "      <td>As It Was</td>\n",
       "      <td>Harry Styles</td>\n",
       "    </tr>\n",
       "    <tr>\n",
       "      <th>1</th>\n",
       "      <td>2</td>\n",
       "      <td>First Class</td>\n",
       "      <td>Jack Harlow</td>\n",
       "    </tr>\n",
       "    <tr>\n",
       "      <th>2</th>\n",
       "      <td>3</td>\n",
       "      <td>Heat Waves</td>\n",
       "      <td>Glass Animals</td>\n",
       "    </tr>\n",
       "    <tr>\n",
       "      <th>3</th>\n",
       "      <td>4</td>\n",
       "      <td>Big Energy</td>\n",
       "      <td>Latto</td>\n",
       "    </tr>\n",
       "    <tr>\n",
       "      <th>4</th>\n",
       "      <td>5</td>\n",
       "      <td>Enemy</td>\n",
       "      <td>Imagine Dragons X JID</td>\n",
       "    </tr>\n",
       "    <tr>\n",
       "      <th>...</th>\n",
       "      <td>...</td>\n",
       "      <td>...</td>\n",
       "      <td>...</td>\n",
       "    </tr>\n",
       "    <tr>\n",
       "      <th>95</th>\n",
       "      <td>96</td>\n",
       "      <td>P Power</td>\n",
       "      <td>Gunna Featuring Drake</td>\n",
       "    </tr>\n",
       "    <tr>\n",
       "      <th>96</th>\n",
       "      <td>97</td>\n",
       "      <td>Money So Big</td>\n",
       "      <td>Yeat</td>\n",
       "    </tr>\n",
       "    <tr>\n",
       "      <th>97</th>\n",
       "      <td>98</td>\n",
       "      <td>Blick Blick!</td>\n",
       "      <td>Coi Leray &amp; Nicki Minaj</td>\n",
       "    </tr>\n",
       "    <tr>\n",
       "      <th>98</th>\n",
       "      <td>99</td>\n",
       "      <td>Fall In Love</td>\n",
       "      <td>Bailey Zimmerman</td>\n",
       "    </tr>\n",
       "    <tr>\n",
       "      <th>99</th>\n",
       "      <td>100</td>\n",
       "      <td>X Ultima Vez</td>\n",
       "      <td>Daddy Yankee &amp; Bad Bunny</td>\n",
       "    </tr>\n",
       "  </tbody>\n",
       "</table>\n",
       "<p>100 rows × 3 columns</p>\n",
       "</div>"
      ],
      "text/plain": [
       "    place          song                   artists\n",
       "0       1     As It Was              Harry Styles\n",
       "1       2   First Class               Jack Harlow\n",
       "2       3    Heat Waves             Glass Animals\n",
       "3       4    Big Energy                     Latto\n",
       "4       5         Enemy     Imagine Dragons X JID\n",
       "..    ...           ...                       ...\n",
       "95     96       P Power     Gunna Featuring Drake\n",
       "96     97  Money So Big                      Yeat\n",
       "97     98  Blick Blick!   Coi Leray & Nicki Minaj\n",
       "98     99  Fall In Love          Bailey Zimmerman\n",
       "99    100  X Ultima Vez  Daddy Yankee & Bad Bunny\n",
       "\n",
       "[100 rows x 3 columns]"
      ]
     },
     "execution_count": 8,
     "metadata": {},
     "output_type": "execute_result"
    }
   ],
   "source": [
    "Top_100\n"
   ]
  },
  {
   "cell_type": "code",
   "execution_count": 29,
   "id": "f6ca3525",
   "metadata": {},
   "outputs": [
    {
     "name": "stdout",
     "output_type": "stream",
     "text": [
      "Starting: Speak now!\n",
      "finished\n"
     ]
    }
   ],
   "source": [
    "import sounddevice as sd\n",
    "from scipy.io.wavfile import write\n",
    "import os\n",
    " \n",
    "fs = 44100  # this is the frequency sampling; also: 4999, 64000\n",
    "seconds = 5  # Duration of recording\n",
    " \n",
    "myrecording = sd.rec(int(seconds * fs), samplerate=fs, channels=2)\n",
    "print(\"Starting: Speak now!\")\n",
    "sd.wait()  # Wait until recording is finished\n",
    "print(\"finished\")\n",
    "write('output.wav', fs, myrecording)  # Save as WAV file\n"
   ]
  },
  {
   "cell_type": "code",
   "execution_count": 23,
   "id": "e8805c6a",
   "metadata": {},
   "outputs": [],
   "source": [
    "os.startfile(\"output.wav\")"
   ]
  },
  {
   "cell_type": "code",
   "execution_count": 24,
   "id": "26a13dfa",
   "metadata": {},
   "outputs": [],
   "source": [
    "\n",
    "#AudioSegment.converter = os.getcwd()+ \"\\\\ffmpeg.exe\")"
   ]
  },
  {
   "cell_type": "code",
   "execution_count": 28,
   "id": "2ad591f3",
   "metadata": {},
   "outputs": [],
   "source": [
    "\n"
   ]
  },
  {
   "cell_type": "code",
   "execution_count": 30,
   "id": "846aa7d7",
   "metadata": {},
   "outputs": [],
   "source": [
    "sound = AudioSegment.from_wav(r\"C:\\\\Users\\\\eupho\\\\documents\\\\DataAnalytisc\\\\IronRoth\\\\output.wav\")"
   ]
  },
  {
   "cell_type": "code",
   "execution_count": 31,
   "id": "56b67655",
   "metadata": {},
   "outputs": [
    {
     "data": {
      "text/plain": [
       "<_io.BufferedRandom name='myfile.mp3'>"
      ]
     },
     "execution_count": 31,
     "metadata": {},
     "output_type": "execute_result"
    }
   ],
   "source": [
    "sound.export('myfile.mp3', format='mp3')"
   ]
  },
  {
   "cell_type": "code",
   "execution_count": 35,
   "id": "9f4de966",
   "metadata": {
    "scrolled": true
   },
   "outputs": [
    {
     "name": "stdout",
     "output_type": "stream",
     "text": [
      "(5.0, {'matches': [], 'tagid': 'AFD3EC70-E4B3-4D91-A0C2-6DCECD707CBC', 'retryms': 7000})\n"
     ]
    }
   ],
   "source": [
    "from ShazamAPI import Shazam\n",
    "\n",
    "mp3_file_content_to_recognize = open('myfile.mp3', 'rb').read()\n",
    "\n",
    "shazam = Shazam(mp3_file_content_to_recognize)\n",
    "recognize_generator = shazam.recognizeSong()\n",
    "\n",
    "print (next(recognize_generator)) "
   ]
  },
  {
   "cell_type": "code",
   "execution_count": 34,
   "id": "0a4b4622",
   "metadata": {
    "scrolled": true
   },
   "outputs": [
    {
     "ename": "StopIteration",
     "evalue": "",
     "output_type": "error",
     "traceback": [
      "\u001b[1;31m---------------------------------------------------------------------------\u001b[0m",
      "\u001b[1;31mStopIteration\u001b[0m                             Traceback (most recent call last)",
      "Input \u001b[1;32mIn [34]\u001b[0m, in \u001b[0;36m<cell line: 1>\u001b[1;34m()\u001b[0m\n\u001b[1;32m----> 1\u001b[0m \u001b[38;5;28mprint\u001b[39m(\u001b[38;5;28;43mnext\u001b[39;49m\u001b[43m(\u001b[49m\u001b[43mrecognize_generator\u001b[49m\u001b[43m)\u001b[49m)\n",
      "\u001b[1;31mStopIteration\u001b[0m: "
     ]
    }
   ],
   "source": [
    "print(next(recognize_generator)) # current offset & shazam response to recognize requests"
   ]
  },
  {
   "cell_type": "code",
   "execution_count": null,
   "id": "36eaab30",
   "metadata": {},
   "outputs": [],
   "source": []
  }
 ],
 "metadata": {
  "kernelspec": {
   "display_name": "Python 3 (ipykernel)",
   "language": "python",
   "name": "python3"
  },
  "language_info": {
   "codemirror_mode": {
    "name": "ipython",
    "version": 3
   },
   "file_extension": ".py",
   "mimetype": "text/x-python",
   "name": "python",
   "nbconvert_exporter": "python",
   "pygments_lexer": "ipython3",
   "version": "3.9.7"
  }
 },
 "nbformat": 4,
 "nbformat_minor": 5
}
