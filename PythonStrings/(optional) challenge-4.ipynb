{
 "cells": [
  {
   "cell_type": "markdown",
   "id": "0ff82a7a",
   "metadata": {},
   "source": [
    "# Challenge 4: Nested dictionaries"
   ]
  },
  {
   "cell_type": "markdown",
   "id": "5b92257c",
   "metadata": {},
   "source": [
    "Next week we will deal with web scraping and API's. Python wise this means since we will encounter file formats like JSON we will have to deal with a lot of dictionaries. Not only ordinary dictionaries, but also nested ones. In this lab we will train handling them.\n",
    "\n",
    "In the following, if we show values with markdown, just copy-paste them into your `# my code here` field if you need them."
   ]
  },
  {
   "cell_type": "markdown",
   "id": "26860027",
   "metadata": {},
   "source": [
    "**Warm up phase: Here are some keys and values. Use them to build a dictionary called `numbers_dct`**"
   ]
  },
  {
   "cell_type": "markdown",
   "id": "ce7b9144",
   "metadata": {},
   "source": [
    "```python\n",
    "keys = ['hundred', 'twohundred', 'threehundred']\n",
    "values = [10, 20, 30]\n",
    "```"
   ]
  },
  {
   "cell_type": "code",
   "execution_count": 4,
   "id": "0c49f983",
   "metadata": {},
   "outputs": [
    {
     "data": {
      "text/plain": [
       "{'hundred': 10, 'twohundred': 20, 'threehundred': 30}"
      ]
     },
     "execution_count": 4,
     "metadata": {},
     "output_type": "execute_result"
    }
   ],
   "source": [
    "# your code here\n",
    "keys = ['hundred', 'twohundred', 'threehundred']\n",
    "values = [10, 20, 30]\n",
    "\n",
    "numbers_dct = {}\n",
    "currentIndex=0\n",
    "for newKey in keys:\n",
    "    numbers_dct[newKey] = values[currentIndex]\n",
    "    currentIndex += 1\n",
    "    \n",
    "numbers_dct"
   ]
  },
  {
   "cell_type": "markdown",
   "id": "82106422",
   "metadata": {},
   "source": [
    "**Here are two dictionaries. Merge their entries to a third dictionary**"
   ]
  },
  {
   "cell_type": "markdown",
   "id": "853eb147",
   "metadata": {},
   "source": [
    "```python\n",
    "dict1 = {'One': 1, 'Two': 2, 'Six': 6}\n",
    "dict2 = {'Thirty': 30, 'Fourty': 40, 'Fifty': 50}\n",
    "```"
   ]
  },
  {
   "cell_type": "code",
   "execution_count": 7,
   "id": "4f89673d",
   "metadata": {},
   "outputs": [
    {
     "data": {
      "text/plain": [
       "{'One': 1, 'Two': 2, 'Six': 6, 'Thirty': 30, 'Fourty': 40, 'Fifty': 50}"
      ]
     },
     "execution_count": 7,
     "metadata": {},
     "output_type": "execute_result"
    }
   ],
   "source": [
    "# your code here\n",
    "dict1 = {'One': 1, 'Two': 2, 'Six': 6}\n",
    "dict2 = {'Thirty': 30, 'Fourty': 40, 'Fifty': 50}\n",
    "dict3 = {}\n",
    "\n",
    "for newKey, newValue in dict1.items():\n",
    "    dict3[newKey] = newValue\n",
    "\n",
    "\n",
    "for newKey, newValue in dict2.items():\n",
    "    dict3[newKey] = newValue\n",
    "\n",
    "dict3"
   ]
  },
  {
   "cell_type": "markdown",
   "id": "6cc95e99",
   "metadata": {},
   "source": [
    "**Nested dictionaries**"
   ]
  },
  {
   "cell_type": "markdown",
   "id": "8b6824f3",
   "metadata": {},
   "source": [
    "Here comes a bigger, nested dictionary. Store Martin's French grades in a variable called `martins_french` by navigating to the value using keys and values. Remember, while you drill down the structure of the dictionary and you encounter a new dictionary, you can always use `.keys()` and `.values()` to not loose orientation."
   ]
  },
  {
   "cell_type": "code",
   "execution_count": 10,
   "id": "0609be7f",
   "metadata": {},
   "outputs": [],
   "source": [
    "sampleDict = {\n",
    "    \"class\":{\n",
    "        \"student_list\":{\n",
    "            \"Anna\":{\n",
    "                \"marks\":{\n",
    "                    \"physics\":[70, 20, 100, 20],\n",
    "                    \"history\":[80,10,55,35],\n",
    "                    \"math\":[100, 90, 70, 35],\n",
    "                }\n",
    "            },\n",
    "            \"Martin\":{\n",
    "                \"marks\":{\n",
    "                    \"french\":[20, 10, 35, 45],\n",
    "                    \"spanish\":[40, 75, 50, 90],\n",
    "                    \"math\": [90,85, 90, 95],\n",
    "                }\n",
    "            },\n",
    "            \"Richard\":{\n",
    "                \"marks\":{\n",
    "                    \"physics\":[10, 10, 0, 90],\n",
    "                    \"biology\":[50, 50, 70, 75],\n",
    "                    \"math\":[90, 70, 50, 40],\n",
    "                }\n",
    "            }\n",
    "        }\n",
    "    }\n",
    "}"
   ]
  },
  {
   "cell_type": "code",
   "execution_count": 17,
   "id": "55fcee28",
   "metadata": {},
   "outputs": [
    {
     "name": "stdout",
     "output_type": "stream",
     "text": [
      "[20, 10, 35, 45]\n"
     ]
    }
   ],
   "source": [
    "# your code here\n",
    "print(str(sampleDict[\"class\"]['student_list']['Martin']['marks']['french']))"
   ]
  },
  {
   "cell_type": "markdown",
   "id": "e935dd13",
   "metadata": {},
   "source": [
    "**Calculate the mean of Richard's biology's grades**"
   ]
  },
  {
   "cell_type": "code",
   "execution_count": 21,
   "id": "b55e1ee4",
   "metadata": {},
   "outputs": [
    {
     "data": {
      "text/plain": [
       "61.25"
      ]
     },
     "execution_count": 21,
     "metadata": {},
     "output_type": "execute_result"
    }
   ],
   "source": [
    "# your code here\n",
    "import numpy\n",
    "numpy.mean(sampleDict[\"class\"]['student_list']['Richard']['marks']['biology'])"
   ]
  },
  {
   "cell_type": "markdown",
   "id": "8fd6b018",
   "metadata": {},
   "source": [
    "**Return a list of all the students**"
   ]
  },
  {
   "cell_type": "code",
   "execution_count": 25,
   "id": "102c92e3",
   "metadata": {},
   "outputs": [
    {
     "name": "stdout",
     "output_type": "stream",
     "text": [
      "['Anna', 'Martin', 'Richard']\n"
     ]
    }
   ],
   "source": [
    "# your code here\n",
    "names = []\n",
    "for name in sampleDict[\"class\"]['student_list'].keys():\n",
    "    names.append(name)\n",
    "print(str(names))"
   ]
  },
  {
   "cell_type": "markdown",
   "id": "467fdf08",
   "metadata": {},
   "source": [
    "**Return Anna's 2nd grade in history**"
   ]
  },
  {
   "cell_type": "code",
   "execution_count": 26,
   "id": "72da977b",
   "metadata": {},
   "outputs": [
    {
     "data": {
      "text/plain": [
       "10"
      ]
     },
     "execution_count": 26,
     "metadata": {},
     "output_type": "execute_result"
    }
   ],
   "source": [
    "sampleDict[\"class\"]['student_list']['Anna']['marks']['history'][1]"
   ]
  },
  {
   "cell_type": "markdown",
   "id": "f3897907",
   "metadata": {},
   "source": [
    "**Return all the grades that are 3rd in the list for every subject for all the students**\n",
    "\n",
    "Use appropriate `for` loops and a `print()` statement"
   ]
  },
  {
   "cell_type": "code",
   "execution_count": 34,
   "id": "956d1f3e",
   "metadata": {},
   "outputs": [
    {
     "name": "stdout",
     "output_type": "stream",
     "text": [
      "Annahad the following grades in each third test\n",
      "In physics it was 100\n",
      "In history it was 55\n",
      "In math it was 70\n",
      "Martinhad the following grades in each third test\n",
      "In french it was 35\n",
      "In spanish it was 50\n",
      "In math it was 90\n",
      "Richardhad the following grades in each third test\n",
      "In physics it was 0\n",
      "In biology it was 70\n",
      "In math it was 50\n"
     ]
    }
   ],
   "source": [
    "for student in sampleDict[\"class\"]['student_list'].keys():\n",
    "    print(student + \"had the following grades in each third test\")\n",
    "    for theClass in sampleDict[\"class\"]['student_list'][student]['marks'].keys():\n",
    "        print(\"In \" + theClass + \" it was \" + str(sampleDict[\"class\"]['student_list'][student]['marks'][theClass][2]))             \n"
   ]
  },
  {
   "cell_type": "markdown",
   "id": "dc295ef3",
   "metadata": {},
   "source": [
    "**Get all the grades and store them in a list `all_grades` Calculate the mean (solution: 55.97)**\n",
    "\n",
    "You can of course use a modified version of your solution of the previous question."
   ]
  },
  {
   "cell_type": "code",
   "execution_count": 35,
   "id": "f4173977",
   "metadata": {},
   "outputs": [
    {
     "name": "stdout",
     "output_type": "stream",
     "text": [
      "55.97222222222222\n"
     ]
    }
   ],
   "source": [
    "# your code here\n",
    "all_grades = []\n",
    "for student in sampleDict[\"class\"]['student_list'].keys():\n",
    "    for theClass in sampleDict[\"class\"]['student_list'][student]['marks'].keys():\n",
    "        for theGrade in sampleDict[\"class\"]['student_list'][student]['marks'][theClass]:\n",
    "            all_grades.append(theGrade)\n",
    "all_grades\n"
   ]
  },
  {
   "cell_type": "code",
   "execution_count": 100,
   "id": "b14c3b1c",
   "metadata": {},
   "outputs": [
    {
     "data": {
      "text/plain": [
       "55.97222222222222"
      ]
     },
     "execution_count": 100,
     "metadata": {},
     "output_type": "execute_result"
    }
   ],
   "source": [
    "print(numpy.mean(all_grades))"
   ]
  },
  {
   "cell_type": "markdown",
   "id": "c33710ee",
   "metadata": {},
   "source": [
    "**Save that list as a column in a pandas dataframe and plot a histogram with it**"
   ]
  },
  {
   "cell_type": "code",
   "execution_count": 47,
   "id": "c940a412",
   "metadata": {},
   "outputs": [
    {
     "data": {
      "text/plain": [
       "Text(0.5, 1.0, 'grades')"
      ]
     },
     "execution_count": 47,
     "metadata": {},
     "output_type": "execute_result"
    },
    {
     "data": {
      "image/png": "[encoded data removed]",
      "text/plain": [
       "<Figure size 432x288 with 1 Axes>"
      ]
     },
     "metadata": {
      "needs_background": "light"
     },
     "output_type": "display_data"
    }
   ],
   "source": [
    "# your code here\n",
    "import pandas as pd\n",
    "import matplotlib.pyplot as plot\n",
    "pandasDf = pd.DataFrame(all_grades, columns=['grades'])\n",
    "plot.hist(pandasDf)\n",
    "plot.grid(axis='y', alpha=0.75)\n",
    "plot.grid(axis='x', alpha=0.75)\n",
    "plot.title('grades')"
   ]
  },
  {
   "cell_type": "markdown",
   "id": "581c1e18",
   "metadata": {},
   "source": [
    "Output should look like this"
   ]
  },
  {
   "cell_type": "code",
   "execution_count": 99,
   "id": "544f791b",
   "metadata": {},
   "outputs": [
    {
     "data": {
      "image/png": "[encoded data removed]",
      "text/plain": [
       "<Figure size 432x288 with 1 Axes>"
      ]
     },
     "metadata": {
      "needs_background": "light"
     },
     "output_type": "display_data"
    }
   ],
   "source": []
  },
  {
   "cell_type": "markdown",
   "id": "bf1468d8",
   "metadata": {},
   "source": [
    "**Return all the students subjects. Watch out: We don't want repetitions!**"
   ]
  },
  {
   "cell_type": "code",
   "execution_count": 50,
   "id": "dd6a9494",
   "metadata": {},
   "outputs": [
    {
     "data": {
      "text/plain": [
       "{'biology', 'french', 'history', 'math', 'physics', 'spanish'}"
      ]
     },
     "execution_count": 50,
     "metadata": {},
     "output_type": "execute_result"
    }
   ],
   "source": [
    "# your code\n",
    "ClassList = []\n",
    "for student in sampleDict[\"class\"]['student_list'].keys():\n",
    "    for theClass in sampleDict[\"class\"]['student_list'][student]['marks'].keys():\n",
    "        ClassList.append(theClass)\n",
    "ClassSet = set(ClassList)\n",
    "ClassSet\n"
   ]
  },
  {
   "cell_type": "markdown",
   "id": "2144983d",
   "metadata": {},
   "source": [
    "Output should look like this"
   ]
  },
  {
   "cell_type": "code",
   "execution_count": 96,
   "id": "4dabe1ba",
   "metadata": {},
   "outputs": [
    {
     "data": {
      "text/plain": [
       "{'biology', 'french', 'history', 'math', 'physics', 'spanish'}"
      ]
     },
     "execution_count": 96,
     "metadata": {},
     "output_type": "execute_result"
    }
   ],
   "source": []
  },
  {
   "cell_type": "markdown",
   "id": "78ecbdb7",
   "metadata": {},
   "source": [
    "**Richard heard you're a data enthusiast and asks you to hack the school server and and replace his worst physics grade rounded to full integers (0) with the mean of his physics grades (he doesn't want to raise suspicion). Help him do that. Check wether your hack was successful by printing his physics grade**"
   ]
  },
  {
   "cell_type": "code",
   "execution_count": 63,
   "id": "70940e05",
   "metadata": {},
   "outputs": [
    {
     "name": "stdout",
     "output_type": "stream",
     "text": [
      "27.5\n",
      "[10, 10, 28, 90]\n"
     ]
    }
   ],
   "source": [
    "# your code here\n",
    "meanPhysics = 0\n",
    "import math\n",
    "\n",
    "meanPhysics = numpy.mean(sampleDict[\"class\"]['student_list']['Richard']['marks']['physics'])\n",
    "worstGrade = 100\n",
    "worstGradeIndex = 0\n",
    "currentIndex = 0\n",
    "for gradeToTest in sampleDict[\"class\"]['student_list']['Richard']['marks']['physics']:\n",
    "    if(math.ceil(gradeToTest))<=worstGrade:\n",
    "        worstGradeIndex = currentIndex\n",
    "        worstGrade = gradeToTest\n",
    "    currentIndex += 1\n",
    "sampleDict[\"class\"]['student_list']['Richard']['marks']['physics'][worstGradeIndex] = math.ceil(meanPhysics)\n",
    "print(str(sampleDict[\"class\"]['student_list']['Richard']['marks']['physics']))"
   ]
  },
  {
   "cell_type": "markdown",
   "id": "f3ac8abe",
   "metadata": {},
   "source": [
    "**The hack was discovered! They found out it must have been Richard because his physics grade is not a multiple of 5 like all the other grades**\n",
    "\n",
    "Expell Richard (poor Richard!) by removing him from the dictionary. Use `del`. And print the resulting class dictionary."
   ]
  },
  {
   "cell_type": "code",
   "execution_count": 108,
   "id": "62282f21",
   "metadata": {},
   "outputs": [
    {
     "data": {
      "text/plain": [
       "{'class': {'student_list': {'Anna': {'marks': {'physics': [70, 20, 100, 20],\n",
       "     'history': [80, 10, 55, 35],\n",
       "     'math': [100, 90, 70, 35]}},\n",
       "   'Martin': {'marks': {'french': [20, 10, 35, 45],\n",
       "     'spanish': [40, 75, 50, 90],\n",
       "     'math': [90, 85, 90, 95]}}}}}"
      ]
     },
     "execution_count": 108,
     "metadata": {},
     "output_type": "execute_result"
    }
   ],
   "source": [
    "# your code here\n"
   ]
  },
  {
   "cell_type": "code",
   "execution_count": 66,
   "id": "a9757027",
   "metadata": {},
   "outputs": [
    {
     "name": "stdout",
     "output_type": "stream",
     "text": [
      "{'class': {'student_list': {'Anna': {'marks': {'physics': [70, 20, 100, 20], 'history': [80, 10, 55, 35], 'math': [100, 90, 70, 35]}}, 'Martin': {'marks': {'french': [20, 10, 35, 45], 'spanish': [40, 75, 50, 90], 'math': [90, 85, 90, 95]}}}}}\n"
     ]
    }
   ],
   "source": [
    "del sampleDict[\"class\"]['student_list']['Richard']\n",
    "print(str(sampleDict))"
   ]
  },
  {
   "cell_type": "code",
   "execution_count": null,
   "id": "bb730cb3",
   "metadata": {},
   "outputs": [],
   "source": []
  }
 ],
 "metadata": {
  "kernelspec": {
   "display_name": "Python 3 (ipykernel)",
   "language": "python",
   "name": "python3"
  },
  "language_info": {
   "codemirror_mode": {
    "name": "ipython",
    "version": 3
   },
   "file_extension": ".py",
   "mimetype": "text/x-python",
   "name": "python",
   "nbconvert_exporter": "python",
   "pygments_lexer": "ipython3",
   "version": "3.9.7"
  }
 },
 "nbformat": 4,
 "nbformat_minor": 5
}
