{
 "cells": [
  {
   "cell_type": "markdown",
   "metadata": {
    "id": "N1YkD9XI6Fg3"
   },
   "source": [
    "# Using Pandas"
   ]
  },
  {
   "cell_type": "code",
   "execution_count": 1,
   "metadata": {
    "executionInfo": {
     "elapsed": 4,
     "status": "ok",
     "timestamp": 1623140082185,
     "user": {
      "displayName": "Ignacio Soteras",
      "photoUrl": "",
      "userId": "02050793736257155229"
     },
     "user_tz": -120
    },
    "id": "jL4kjGt66Fg5"
   },
   "outputs": [],
   "source": [
    "import pandas as pd\n",
    "import numpy as np\n",
    "pd.set_option('display.max_rows', 200)\n",
    "## to make it possible to display multiple output inside one cell \n",
    "from IPython.core.interactiveshell import InteractiveShell\n",
    "InteractiveShell.ast_node_interactivity = \"all\""
   ]
  },
  {
   "cell_type": "code",
   "execution_count": 2,
   "metadata": {},
   "outputs": [
    {
     "ename": "ModuleNotFoundError",
     "evalue": "No module named 'mysql'",
     "output_type": "error",
     "traceback": [
      "\u001b[1;31m---------------------------------------------------------------------------\u001b[0m",
      "\u001b[1;31mModuleNotFoundError\u001b[0m                       Traceback (most recent call last)",
      "Input \u001b[1;32mIn [2]\u001b[0m, in \u001b[0;36m<cell line: 1>\u001b[1;34m()\u001b[0m\n\u001b[1;32m----> 1\u001b[0m \u001b[38;5;28;01mimport\u001b[39;00m \u001b[38;5;21;01mmysql\u001b[39;00m\u001b[38;5;21;01m.\u001b[39;00m\u001b[38;5;21;01mconnector\u001b[39;00m\n",
      "\u001b[1;31mModuleNotFoundError\u001b[0m: No module named 'mysql'"
     ]
    }
   ],
   "source": [
    "import mysql.connector"
   ]
  },
  {
   "cell_type": "markdown",
   "metadata": {},
   "source": [
    "<b>load the data from the vehicles.csv file into pandas data frame"
   ]
  },
  {
   "cell_type": "code",
   "execution_count": 9,
   "metadata": {
    "executionInfo": {
     "elapsed": 1346,
     "status": "ok",
     "timestamp": 1623140174431,
     "user": {
      "displayName": "Ignacio Soteras",
      "photoUrl": "",
      "userId": "02050793736257155229"
     },
     "user_tz": -120
    },
    "id": "GVHPs2Qa6Fg5"
   },
   "outputs": [],
   "source": [
    "## Your Code here\n",
    "vehicles_df= pd.read_csv(\"data/vehicles.csv\")\n"
   ]
  },
  {
   "cell_type": "markdown",
   "metadata": {
    "id": "Yk72_YtZ6Fg5"
   },
   "source": [
    "First exploration of the dataset:\n",
    "\n",
    "- How many observations does it have?\n",
    "- Look at all the columns: do you understand what they mean?\n",
    "- Look at the raw data: do you see anything weird?\n",
    "- Look at the data types: are they the expected ones for the information the column contains?"
   ]
  },
  {
   "cell_type": "code",
   "execution_count": 16,
   "metadata": {
    "colab": {
     "base_uri": "https://localhost:8080/"
    },
    "executionInfo": {
     "elapsed": 226,
     "status": "ok",
     "timestamp": 1623140221705,
     "user": {
      "displayName": "Ignacio Soteras",
      "photoUrl": "",
      "userId": "02050793736257155229"
     },
     "user_tz": -120
    },
    "id": "-FT85oMVPxlW",
    "outputId": "c9f5d2c8-d3c2-4acc-edec-914a92c7f60b"
   },
   "outputs": [
    {
     "name": "stdout",
     "output_type": "stream",
     "text": [
      "<class 'pandas.core.frame.DataFrame'>\n",
      "RangeIndex: 35952 entries, 0 to 35951\n",
      "Data columns (total 15 columns):\n",
      " #   Column                   Non-Null Count  Dtype  \n",
      "---  ------                   --------------  -----  \n",
      " 0   Make                     35952 non-null  object \n",
      " 1   Model                    35952 non-null  object \n",
      " 2   Year                     35952 non-null  int64  \n",
      " 3   Engine Displacement      35952 non-null  float64\n",
      " 4   Cylinders                35952 non-null  float64\n",
      " 5   Transmission             35952 non-null  object \n",
      " 6   Drivetrain               35952 non-null  object \n",
      " 7   Vehicle Class            35952 non-null  object \n",
      " 8   Fuel Type                35952 non-null  object \n",
      " 9   Fuel Barrels/Year        35952 non-null  float64\n",
      " 10  City MPG                 35952 non-null  int64  \n",
      " 11  Highway MPG              35952 non-null  int64  \n",
      " 12  Combined MPG             35952 non-null  int64  \n",
      " 13  CO2 Emission Grams/Mile  35952 non-null  float64\n",
      " 14  Fuel Cost/Year           35952 non-null  int64  \n",
      "dtypes: float64(4), int64(5), object(6)\n",
      "memory usage: 4.1+ MB\n"
     ]
    }
   ],
   "source": [
    "## Your Code here\n",
    "#Panos = Panoz\n",
    "vehicles_df.info()"
   ]
  },
  {
   "cell_type": "markdown",
   "metadata": {
    "id": "tqcFYXUk6Fg6"
   },
   "source": [
    "### Cleaning and wrangling data\n",
    "\n",
    "- Some car brand names refer to the same brand. Replace all brand names that contain the word \"Dutton\" for simply \"Dutton\". If you find similar examples, clean their names too. Use `loc` with boolean indexing.\n",
    "\n",
    "- Convert CO2 Emissions from Grams/Mile to Grams/Km\n",
    "\n",
    "- Create a binary column that solely indicates if the transmission of a car is automatic or manual. Use `pandas.Series.str.startswith` and .\n",
    "\n",
    "- convert MPG columns to km_per_liter"
   ]
  },
  {
   "cell_type": "code",
   "execution_count": 23,
   "metadata": {},
   "outputs": [
    {
     "data": {
      "text/html": [
       "<div>\n",
       "<style scoped>\n",
       "    .dataframe tbody tr th:only-of-type {\n",
       "        vertical-align: middle;\n",
       "    }\n",
       "\n",
       "    .dataframe tbody tr th {\n",
       "        vertical-align: top;\n",
       "    }\n",
       "\n",
       "    .dataframe thead th {\n",
       "        text-align: right;\n",
       "    }\n",
       "</style>\n",
       "<table border=\"1\" class=\"dataframe\">\n",
       "  <thead>\n",
       "    <tr style=\"text-align: right;\">\n",
       "      <th></th>\n",
       "      <th>Make</th>\n",
       "      <th>Model</th>\n",
       "      <th>Year</th>\n",
       "      <th>Engine Displacement</th>\n",
       "      <th>Cylinders</th>\n",
       "      <th>Transmission</th>\n",
       "      <th>Drivetrain</th>\n",
       "      <th>Vehicle Class</th>\n",
       "      <th>Fuel Type</th>\n",
       "      <th>Fuel Barrels/Year</th>\n",
       "      <th>City MPG</th>\n",
       "      <th>Highway MPG</th>\n",
       "      <th>Combined MPG</th>\n",
       "      <th>CO2 Emission Grams/Mile</th>\n",
       "      <th>Fuel Cost/Year</th>\n",
       "    </tr>\n",
       "  </thead>\n",
       "  <tbody>\n",
       "    <tr>\n",
       "      <th>0</th>\n",
       "      <td>AM General</td>\n",
       "      <td>DJ Po Vehicle 2WD</td>\n",
       "      <td>1984</td>\n",
       "      <td>2.5</td>\n",
       "      <td>4.0</td>\n",
       "      <td>Automatic 3-spd</td>\n",
       "      <td>2-Wheel Drive</td>\n",
       "      <td>Special Purpose Vehicle 2WD</td>\n",
       "      <td>Regular</td>\n",
       "      <td>19.388824</td>\n",
       "      <td>18</td>\n",
       "      <td>17</td>\n",
       "      <td>17</td>\n",
       "      <td>522.764706</td>\n",
       "      <td>1950</td>\n",
       "    </tr>\n",
       "    <tr>\n",
       "      <th>1</th>\n",
       "      <td>AM General</td>\n",
       "      <td>FJ8c Post Office</td>\n",
       "      <td>1984</td>\n",
       "      <td>4.2</td>\n",
       "      <td>6.0</td>\n",
       "      <td>Automatic 3-spd</td>\n",
       "      <td>2-Wheel Drive</td>\n",
       "      <td>Special Purpose Vehicle 2WD</td>\n",
       "      <td>Regular</td>\n",
       "      <td>25.354615</td>\n",
       "      <td>13</td>\n",
       "      <td>13</td>\n",
       "      <td>13</td>\n",
       "      <td>683.615385</td>\n",
       "      <td>2550</td>\n",
       "    </tr>\n",
       "    <tr>\n",
       "      <th>2</th>\n",
       "      <td>AM General</td>\n",
       "      <td>Post Office DJ5 2WD</td>\n",
       "      <td>1985</td>\n",
       "      <td>2.5</td>\n",
       "      <td>4.0</td>\n",
       "      <td>Automatic 3-spd</td>\n",
       "      <td>Rear-Wheel Drive</td>\n",
       "      <td>Special Purpose Vehicle 2WD</td>\n",
       "      <td>Regular</td>\n",
       "      <td>20.600625</td>\n",
       "      <td>16</td>\n",
       "      <td>17</td>\n",
       "      <td>16</td>\n",
       "      <td>555.437500</td>\n",
       "      <td>2100</td>\n",
       "    </tr>\n",
       "    <tr>\n",
       "      <th>3</th>\n",
       "      <td>AM General</td>\n",
       "      <td>Post Office DJ8 2WD</td>\n",
       "      <td>1985</td>\n",
       "      <td>4.2</td>\n",
       "      <td>6.0</td>\n",
       "      <td>Automatic 3-spd</td>\n",
       "      <td>Rear-Wheel Drive</td>\n",
       "      <td>Special Purpose Vehicle 2WD</td>\n",
       "      <td>Regular</td>\n",
       "      <td>25.354615</td>\n",
       "      <td>13</td>\n",
       "      <td>13</td>\n",
       "      <td>13</td>\n",
       "      <td>683.615385</td>\n",
       "      <td>2550</td>\n",
       "    </tr>\n",
       "    <tr>\n",
       "      <th>4</th>\n",
       "      <td>ASC Incorporated</td>\n",
       "      <td>GNX</td>\n",
       "      <td>1987</td>\n",
       "      <td>3.8</td>\n",
       "      <td>6.0</td>\n",
       "      <td>Automatic 4-spd</td>\n",
       "      <td>Rear-Wheel Drive</td>\n",
       "      <td>Midsize Cars</td>\n",
       "      <td>Premium</td>\n",
       "      <td>20.600625</td>\n",
       "      <td>14</td>\n",
       "      <td>21</td>\n",
       "      <td>16</td>\n",
       "      <td>555.437500</td>\n",
       "      <td>2550</td>\n",
       "    </tr>\n",
       "  </tbody>\n",
       "</table>\n",
       "</div>"
      ],
      "text/plain": [
       "               Make                Model  Year  Engine Displacement  \\\n",
       "0        AM General    DJ Po Vehicle 2WD  1984                  2.5   \n",
       "1        AM General     FJ8c Post Office  1984                  4.2   \n",
       "2        AM General  Post Office DJ5 2WD  1985                  2.5   \n",
       "3        AM General  Post Office DJ8 2WD  1985                  4.2   \n",
       "4  ASC Incorporated                  GNX  1987                  3.8   \n",
       "\n",
       "   Cylinders     Transmission        Drivetrain                Vehicle Class  \\\n",
       "0        4.0  Automatic 3-spd     2-Wheel Drive  Special Purpose Vehicle 2WD   \n",
       "1        6.0  Automatic 3-spd     2-Wheel Drive  Special Purpose Vehicle 2WD   \n",
       "2        4.0  Automatic 3-spd  Rear-Wheel Drive  Special Purpose Vehicle 2WD   \n",
       "3        6.0  Automatic 3-spd  Rear-Wheel Drive  Special Purpose Vehicle 2WD   \n",
       "4        6.0  Automatic 4-spd  Rear-Wheel Drive                 Midsize Cars   \n",
       "\n",
       "  Fuel Type  Fuel Barrels/Year  City MPG  Highway MPG  Combined MPG  \\\n",
       "0   Regular          19.388824        18           17            17   \n",
       "1   Regular          25.354615        13           13            13   \n",
       "2   Regular          20.600625        16           17            16   \n",
       "3   Regular          25.354615        13           13            13   \n",
       "4   Premium          20.600625        14           21            16   \n",
       "\n",
       "   CO2 Emission Grams/Mile  Fuel Cost/Year  \n",
       "0               522.764706            1950  \n",
       "1               683.615385            2550  \n",
       "2               555.437500            2100  \n",
       "3               683.615385            2550  \n",
       "4               555.437500            2550  "
      ]
     },
     "execution_count": 23,
     "metadata": {},
     "output_type": "execute_result"
    }
   ],
   "source": [
    "vehicles_df.head()\n"
   ]
  },
  {
   "cell_type": "code",
   "execution_count": 39,
   "metadata": {},
   "outputs": [
    {
     "data": {
      "text/plain": [
       "Chevrolet                           3643\n",
       "Ford                                2946\n",
       "Dodge                               2360\n",
       "GMC                                 2347\n",
       "Toyota                              1836\n",
       "BMW                                 1677\n",
       "Mercedes-Benz                       1284\n",
       "Nissan                              1253\n",
       "Volkswagen                          1047\n",
       "Mitsubishi                           950\n",
       "Mazda                                915\n",
       "Audi                                 890\n",
       "Porsche                              862\n",
       "Honda                                836\n",
       "Jeep                                 829\n",
       "Pontiac                              784\n",
       "Subaru                               781\n",
       "Volvo                                717\n",
       "Hyundai                              662\n",
       "Chrysler                             641\n",
       "Buick                                537\n",
       "Mercury                              532\n",
       "Suzuki                               512\n",
       "Cadillac                             508\n",
       "Kia                                  493\n",
       "Plymouth                             456\n",
       "Saab                                 410\n",
       "Isuzu                                409\n",
       "Lexus                                397\n",
       "Oldsmobile                           376\n",
       "Infiniti                             345\n",
       "Jaguar                               343\n",
       "MINI                                 320\n",
       "Acura                                302\n",
       "Saturn                               278\n",
       "Lincoln                              273\n",
       "Ferrari                              208\n",
       "Rolls-Royce                          160\n",
       "Eagle                                156\n",
       "Geo                                  144\n",
       "Land Rover                           142\n",
       "Aston Martin                         133\n",
       "Bentley                              116\n",
       "Maserati                             111\n",
       "Lamborghini                          104\n",
       "Scion                                 83\n",
       "Peugeot                               74\n",
       "Daewoo                                67\n",
       "Ram                                   57\n",
       "Roush Performance                     53\n",
       "Lotus                                 53\n",
       "Fiat                                  43\n",
       "Alfa Romeo                            41\n",
       "J.K. Motors                           36\n",
       "Renault                               33\n",
       "Wallace Environmental                 32\n",
       "Maybach                               31\n",
       "American Motors Corporation           22\n",
       "smart                                 20\n",
       "Hummer                                19\n",
       "Daihatsu                              17\n",
       "CX Automotive                         16\n",
       "Federal Coach                         14\n",
       "Merkur                                14\n",
       "Spyker                                13\n",
       "Import Trade Services                 13\n",
       "McLaren Automotive                    13\n",
       "Sterling                              12\n",
       "Bugatti                                8\n",
       "Yugo                                   8\n",
       "Genesis                                7\n",
       "Tecstar, LP                            6\n",
       "Mcevoy Motors                          6\n",
       "Bertone                                5\n",
       "VPG                                    5\n",
       "Saleen                                 5\n",
       "AM General                             4\n",
       "Panther Car Company Limited            4\n",
       "Grumman Olson                          4\n",
       "TVR Engineering Ltd                    4\n",
       "Autokraft Limited                      4\n",
       "Vector                                 4\n",
       "Texas Coach Company                    4\n",
       "Saleen Performance                     4\n",
       "Dabryan Coach Builders Inc             3\n",
       "Dutton                                 3\n",
       "Morgan                                 3\n",
       "Consulier Industries Inc               3\n",
       "Evans Automobiles                      3\n",
       "Dacia                                  3\n",
       "Bitter Gmbh and Co. Kg                 3\n",
       "BMW Alpina                             3\n",
       "PAS Inc - GMC                          2\n",
       "CCC Engineering                        2\n",
       "Laforza Automobile Inc                 2\n",
       "Ruf Automobile Gmbh                    2\n",
       "Red Shift Ltd.                         2\n",
       "Mobility Ventures LLC                  2\n",
       "Pininfarina                            2\n",
       "Pagani                                 2\n",
       "Bill Dovell Motor Car Company          2\n",
       "Quantum Technologies                   2\n",
       "PAS, Inc                               2\n",
       "SRT                                    2\n",
       "Goldacre                               1\n",
       "Vixen Motor Company                    1\n",
       "Qvale                                  1\n",
       "Shelby                                 1\n",
       "ASC Incorporated                       1\n",
       "JBA Motorcars, Inc.                    1\n",
       "Aurora Cars Ltd                        1\n",
       "Fisker                                 1\n",
       "Mahindra                               1\n",
       "Volga Associated Automobile            1\n",
       "Import Foreign Auto Sales Inc          1\n",
       "London Taxi                            1\n",
       "Isis Imports Ltd                       1\n",
       "Lambda Control Systems                 1\n",
       "Excalibur Autos                        1\n",
       "Panoz Auto-Development                 1\n",
       "General Motors                         1\n",
       "Grumman Allied Industries              1\n",
       "London Coach Co Inc                    1\n",
       "Environmental Rsch and Devp Corp       1\n",
       "Panos                                  1\n",
       "Name: Make, dtype: int64"
      ]
     },
     "execution_count": 39,
     "metadata": {},
     "output_type": "execute_result"
    }
   ],
   "source": [
    "vehicles_df[\"Make\"].value_counts()\n"
   ]
  },
  {
   "cell_type": "code",
   "execution_count": 1,
   "metadata": {
    "colab": {
     "base_uri": "https://localhost:8080/"
    },
    "executionInfo": {
     "elapsed": 239,
     "status": "ok",
     "timestamp": 1623140685861,
     "user": {
      "displayName": "Ignacio Soteras",
      "photoUrl": "",
      "userId": "02050793736257155229"
     },
     "user_tz": -120
    },
    "id": "jPtYqxszRc_h",
    "outputId": "b7a82779-98d2-4f55-e8d7-4a9202cc1274"
   },
   "outputs": [
    {
     "ename": "NameError",
     "evalue": "name 'vehicles_df' is not defined",
     "output_type": "error",
     "traceback": [
      "\u001b[1;31m---------------------------------------------------------------------------\u001b[0m",
      "\u001b[1;31mNameError\u001b[0m                                 Traceback (most recent call last)",
      "Input \u001b[1;32mIn [1]\u001b[0m, in \u001b[0;36m<cell line: 2>\u001b[1;34m()\u001b[0m\n\u001b[0;32m      1\u001b[0m \u001b[38;5;66;03m## Your Code here \u001b[39;00m\n\u001b[1;32m----> 2\u001b[0m \u001b[43mvehicles_df\u001b[49m\u001b[38;5;241m.\u001b[39mloc[vehicles_df[\u001b[38;5;124m\"\u001b[39m\u001b[38;5;124mMake\u001b[39m\u001b[38;5;124m\"\u001b[39m]\u001b[38;5;241m.\u001b[39mstr\u001b[38;5;241m.\u001b[39mcontains(\u001b[38;5;124m\"\u001b[39m\u001b[38;5;124mDutton\u001b[39m\u001b[38;5;124m\"\u001b[39m)] \u001b[38;5;241m=\u001b[39m \u001b[38;5;124m\"\u001b[39m\u001b[38;5;124mDutton\u001b[39m\u001b[38;5;124m\"\u001b[39m\n\u001b[0;32m      3\u001b[0m vehicles_df\u001b[38;5;241m.\u001b[39mloc[vehicles_df[\u001b[38;5;124m\"\u001b[39m\u001b[38;5;124mMake\u001b[39m\u001b[38;5;124m\"\u001b[39m]\u001b[38;5;241m.\u001b[39mstr\u001b[38;5;241m.\u001b[39mcontains(\u001b[38;5;124m\"\u001b[39m\u001b[38;5;124mPanos\u001b[39m\u001b[38;5;124m\"\u001b[39m)] \u001b[38;5;241m=\u001b[39m \u001b[38;5;124m\"\u001b[39m\u001b[38;5;124mPanoz Auto-Development\u001b[39m\u001b[38;5;124m\"\u001b[39m\n",
      "\u001b[1;31mNameError\u001b[0m: name 'vehicles_df' is not defined"
     ]
    }
   ],
   "source": [
    "## Your Code here \n",
    "vehicles_df.loc[vehicles_df[\"Make\"].str.contains(\"Dutton\")] = \"Dutton\"\n",
    "vehicles_df.loc[vehicles_df[\"Make\"].str.contains(\"Panos\")] = \"Panoz Auto-Development\""
   ]
  },
  {
   "cell_type": "markdown",
   "metadata": {
    "id": "e_r1ZfaxWfaq"
   },
   "source": [
    "Converting Grams/Mile to Grams/Km\n",
    "\n",
    "1 Mile = 1.60934 Km\n",
    "\n",
    "Grams/Mile * Mile/Km -> Grams/Mile * 1 Mile/1.60934Km\n",
    "\n",
    "$$ \\frac{Grams}{Mile} * \\frac{Mile}{Km} $$\n",
    "\n",
    "$$ \\frac{Grams}{Mile} * \\frac{1 Mile}{1.60934Km}  $$"
   ]
  },
  {
   "cell_type": "markdown",
   "metadata": {
    "id": "R-jWHEisa3nF"
   },
   "source": [
    "convert MPG columns to km_per_liter\n",
    "\n",
    "MPG = Miles/Gallon -> Km/Liter\n",
    "\n",
    "1 Mile = 1.60934 Km\n",
    "\n",
    "1 Gallon = 3.78541 Liters\n",
    "\n",
    "$$ \\frac{Miles}{Gallon} -> \\frac{Miles}{Gallon} * \\frac{Km}{Miles} * \\frac{Gallon}{Liters}$$\n",
    "\n",
    "$$ \\frac{Miles}{Gallon} -> \\frac{Miles}{Gallon} * \\frac{1.60934Km}{ 1Miles} * \\frac{1 Gallon}{3.78541 Liters}$$\n",
    "\n",
    "* ( 1.60934 / 3.78541 )\n"
   ]
  },
  {
   "cell_type": "markdown",
   "metadata": {
    "id": "SRZZJAPQ6Fg6"
   },
   "source": [
    "### Gathering insights:\n",
    "\n",
    "- How many car makers are there? How many models? Which car maker has the most cars in the dataset?\n",
    "\n",
    "- When were these cars made? How big is the engine of these cars?\n",
    "\n",
    "- What's the frequency of different transmissions, drivetrains and fuel types?\n",
    "\n",
    "- What's the car that consumes the least/most fuel?"
   ]
  },
  {
   "cell_type": "code",
   "execution_count": 47,
   "metadata": {
    "colab": {
     "base_uri": "https://localhost:8080/"
    },
    "executionInfo": {
     "elapsed": 346,
     "status": "ok",
     "timestamp": 1623143226628,
     "user": {
      "displayName": "Ignacio Soteras",
      "photoUrl": "",
      "userId": "02050793736257155229"
     },
     "user_tz": -120
    },
    "id": "LS-EOV3f6Fg7",
    "outputId": "7244f51d-279e-4a71-ba35-63d2969f5a74"
   },
   "outputs": [
    {
     "name": "stdout",
     "output_type": "stream",
     "text": [
      "Chevrolet                           3643\n",
      "Ford                                2946\n",
      "Dodge                               2360\n",
      "GMC                                 2347\n",
      "Toyota                              1836\n",
      "BMW                                 1677\n",
      "Mercedes-Benz                       1284\n",
      "Nissan                              1253\n",
      "Volkswagen                          1047\n",
      "Mitsubishi                           950\n",
      "Mazda                                915\n",
      "Audi                                 890\n",
      "Porsche                              862\n",
      "Honda                                836\n",
      "Jeep                                 829\n",
      "Pontiac                              784\n",
      "Subaru                               781\n",
      "Volvo                                717\n",
      "Hyundai                              662\n",
      "Chrysler                             641\n",
      "Buick                                537\n",
      "Mercury                              532\n",
      "Suzuki                               512\n",
      "Cadillac                             508\n",
      "Kia                                  493\n",
      "Plymouth                             456\n",
      "Saab                                 410\n",
      "Isuzu                                409\n",
      "Lexus                                397\n",
      "Oldsmobile                           376\n",
      "Infiniti                             345\n",
      "Jaguar                               343\n",
      "MINI                                 320\n",
      "Acura                                302\n",
      "Saturn                               278\n",
      "Lincoln                              273\n",
      "Ferrari                              208\n",
      "Rolls-Royce                          160\n",
      "Eagle                                156\n",
      "Geo                                  144\n",
      "Land Rover                           142\n",
      "Aston Martin                         133\n",
      "Bentley                              116\n",
      "Maserati                             111\n",
      "Lamborghini                          104\n",
      "Scion                                 83\n",
      "Peugeot                               74\n",
      "Daewoo                                67\n",
      "Ram                                   57\n",
      "Lotus                                 53\n",
      "Roush Performance                     53\n",
      "Fiat                                  43\n",
      "Alfa Romeo                            41\n",
      "J.K. Motors                           36\n",
      "Renault                               33\n",
      "Wallace Environmental                 32\n",
      "Maybach                               31\n",
      "American Motors Corporation           22\n",
      "smart                                 20\n",
      "Hummer                                19\n",
      "Daihatsu                              17\n",
      "CX Automotive                         16\n",
      "Federal Coach                         14\n",
      "Merkur                                14\n",
      "McLaren Automotive                    13\n",
      "Import Trade Services                 13\n",
      "Spyker                                13\n",
      "Sterling                              12\n",
      "Bugatti                                8\n",
      "Yugo                                   8\n",
      "Genesis                                7\n",
      "Tecstar, LP                            6\n",
      "Mcevoy Motors                          6\n",
      "VPG                                    5\n",
      "Saleen                                 5\n",
      "Bertone                                5\n",
      "Autokraft Limited                      4\n",
      "Texas Coach Company                    4\n",
      "Panther Car Company Limited            4\n",
      "Saleen Performance                     4\n",
      "TVR Engineering Ltd                    4\n",
      "Grumman Olson                          4\n",
      "Vector                                 4\n",
      "AM General                             4\n",
      "Consulier Industries Inc               3\n",
      "Morgan                                 3\n",
      "Dabryan Coach Builders Inc             3\n",
      "Evans Automobiles                      3\n",
      "Dacia                                  3\n",
      "BMW Alpina                             3\n",
      "Bitter Gmbh and Co. Kg                 3\n",
      "Dutton                                 3\n",
      "CCC Engineering                        2\n",
      "SRT                                    2\n",
      "Ruf Automobile Gmbh                    2\n",
      "Red Shift Ltd.                         2\n",
      "Pagani                                 2\n",
      "Pininfarina                            2\n",
      "Quantum Technologies                   2\n",
      "Bill Dovell Motor Car Company          2\n",
      "Laforza Automobile Inc                 2\n",
      "PAS, Inc                               2\n",
      "PAS Inc - GMC                          2\n",
      "Mobility Ventures LLC                  2\n",
      "Panoz Auto-Development                 2\n",
      "Volga Associated Automobile            1\n",
      "Goldacre                               1\n",
      "Qvale                                  1\n",
      "ASC Incorporated                       1\n",
      "Fisker                                 1\n",
      "JBA Motorcars, Inc.                    1\n",
      "Mahindra                               1\n",
      "Isis Imports Ltd                       1\n",
      "London Taxi                            1\n",
      "London Coach Co Inc                    1\n",
      "Import Foreign Auto Sales Inc          1\n",
      "General Motors                         1\n",
      "Excalibur Autos                        1\n",
      "Lambda Control Systems                 1\n",
      "Vixen Motor Company                    1\n",
      "Shelby                                 1\n",
      "Environmental Rsch and Devp Corp       1\n",
      "Aurora Cars Ltd                        1\n",
      "Grumman Allied Industries              1\n",
      "Name: Make, dtype: int64\n",
      "F150 Pickup 2WD               197\n",
      "F150 Pickup 4WD               179\n",
      "Truck 2WD                     173\n",
      "Mustang                       170\n",
      "Jetta                         169\n",
      "                             ... \n",
      "Turbo R/Rl Bklds Turbo/LWB      1\n",
      "CJ8 4WD                         1\n",
      "Foose F150 Super Cab 2WD        1\n",
      "750il/750il Protection          1\n",
      "QX30                            1\n",
      "Name: Model, Length: 3607, dtype: int64\n"
     ]
    }
   ],
   "source": [
    "# Your Code here\n",
    "print(str(vehicles_df[\"Make\"].value_counts()))\n",
    "print(str(vehicles_df[\"Model\"].value_counts()))"
   ]
  },
  {
   "cell_type": "markdown",
   "metadata": {
    "id": "rcSnpI3I6Fg8"
   },
   "source": [
    "What brand has the worse CO2 Emissions on average?\n",
    "\n",
    "Hint: use the function `sort_values()`"
   ]
  },
  {
   "cell_type": "code",
   "execution_count": 28,
   "metadata": {
    "colab": {
     "base_uri": "https://localhost:8080/",
     "height": 686
    },
    "executionInfo": {
     "elapsed": 270,
     "status": "ok",
     "timestamp": 1623145362738,
     "user": {
      "displayName": "Ignacio Soteras",
      "photoUrl": "",
      "userId": "02050793736257155229"
     },
     "user_tz": -120
    },
    "id": "SV2s8Lm66Fg8",
    "outputId": "ca1f005a-f090-4cec-952f-8e20d3193b46"
   },
   "outputs": [],
   "source": [
    "## your Code here\n"
   ]
  },
  {
   "cell_type": "markdown",
   "metadata": {
    "id": "2avLmljX6Fg9"
   },
   "source": [
    "Do cars with automatic transmission consume more fuel than cars with manual transmission on average?"
   ]
  },
  {
   "cell_type": "code",
   "execution_count": 20,
   "metadata": {},
   "outputs": [],
   "source": [
    "## Your Code is here \n"
   ]
  }
 ],
 "metadata": {
  "colab": {
   "name": "Pandas_Grouping_Joining_Cars_Structure.ipynb",
   "provenance": []
  },
  "kernelspec": {
   "display_name": "Python 3 (ipykernel)",
   "language": "python",
   "name": "python3"
  },
  "language_info": {
   "codemirror_mode": {
    "name": "ipython",
    "version": 3
   },
   "file_extension": ".py",
   "mimetype": "text/x-python",
   "name": "python",
   "nbconvert_exporter": "python",
   "pygments_lexer": "ipython3",
   "version": "3.9.7"
  },
  "toc": {
   "base_numbering": 1,
   "nav_menu": {},
   "number_sections": true,
   "sideBar": true,
   "skip_h1_title": false,
   "title_cell": "Table of Contents",
   "title_sidebar": "Contents",
   "toc_cell": false,
   "toc_position": {},
   "toc_section_display": true,
   "toc_window_display": false
  },
  "varInspector": {
   "cols": {
    "lenName": 16,
    "lenType": 16,
    "lenVar": 40
   },
   "kernels_config": {
    "python": {
     "delete_cmd_postfix": "",
     "delete_cmd_prefix": "del ",
     "library": "var_list.py",
     "varRefreshCmd": "print(var_dic_list())"
    },
    "r": {
     "delete_cmd_postfix": ") ",
     "delete_cmd_prefix": "rm(",
     "library": "var_list.r",
     "varRefreshCmd": "cat(var_dic_list()) "
    }
   },
   "types_to_exclude": [
    "module",
    "function",
    "builtin_function_or_method",
    "instance",
    "_Feature"
   ],
   "window_display": false
  }
 },
 "nbformat": 4,
 "nbformat_minor": 1
}
