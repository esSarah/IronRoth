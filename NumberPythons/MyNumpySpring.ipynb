{
 "cells": [
  {
   "cell_type": "markdown",
   "id": "cd172188",
   "metadata": {},
   "source": [
    "#### 1. Import the numpy package under the name `np` (★☆☆)\n",
    "`hint: import … as`"
   ]
  },
  {
   "cell_type": "code",
   "execution_count": 2,
   "id": "0947ec8c",
   "metadata": {},
   "outputs": [],
   "source": [
    "import numpy as np"
   ]
  },
  {
   "cell_type": "markdown",
   "id": "d52157d4",
   "metadata": {},
   "source": [
    "#### 2. Create a null vector of size 10 (★☆☆)"
   ]
  },
  {
   "cell_type": "code",
   "execution_count": 5,
   "id": "396404bd",
   "metadata": {},
   "outputs": [
    {
     "name": "stdout",
     "output_type": "stream",
     "text": [
      "[0. 0. 0. 0. 0. 0. 0. 0. 0. 0.]\n"
     ]
    }
   ],
   "source": [
    "np.zeros(10)\n"
   ]
  },
  {
   "cell_type": "markdown",
   "id": "226e62fb",
   "metadata": {},
   "source": [
    "#### 3. Create a null vector of size 10 but the fifth value which is 1 (★☆☆)"
   ]
  },
  {
   "cell_type": "code",
   "execution_count": null,
   "id": "2962eed0",
   "metadata": {},
   "outputs": [],
   "source": [
    "five_vector = np.zeros(10)\n",
    "five_vector [4] = 1"
   ]
  },
  {
   "cell_type": "markdown",
   "id": "8a36dd42",
   "metadata": {},
   "source": [
    "\n",
    "#### 4. Create a vector with values ranging from 10 to 49 (★☆☆)\n",
    "`hint: arange`"
   ]
  },
  {
   "cell_type": "code",
   "execution_count": 8,
   "id": "a3ff6119",
   "metadata": {},
   "outputs": [],
   "source": [
    "np.arange(10, 50)"
   ]
  },
  {
   "cell_type": "markdown",
   "id": "1f4f1561",
   "metadata": {},
   "source": [
    "#### 5. Create a 3x3 matrix with values ranging from 0 to 8 (★☆☆)\n",
    "`hint: reshape`"
   ]
  },
  {
   "cell_type": "code",
   "execution_count": 11,
   "id": "57f35f82",
   "metadata": {},
   "outputs": [
    {
     "data": {
      "text/plain": [
       "array([[0, 1, 2],\n",
       "       [3, 4, 5],\n",
       "       [6, 7, 8]])"
      ]
     },
     "execution_count": 11,
     "metadata": {},
     "output_type": "execute_result"
    }
   ],
   "source": [
    "np.arange(0,9).reshape((3, 3))"
   ]
  },
  {
   "cell_type": "markdown",
   "id": "a8407d25",
   "metadata": {},
   "source": [
    "#### 6. Find indices of non-zero elements from [1,2,0,0,4,0] (★☆☆)\n",
    "`hint: np.nonzero`"
   ]
  },
  {
   "cell_type": "code",
   "execution_count": 12,
   "id": "51c8f88f",
   "metadata": {},
   "outputs": [
    {
     "data": {
      "text/plain": [
       "(array([0, 1, 4], dtype=int64),)"
      ]
     },
     "execution_count": 12,
     "metadata": {},
     "output_type": "execute_result"
    }
   ],
   "source": [
    "np.nonzero([1,2,0,0,4,0])"
   ]
  },
  {
   "cell_type": "markdown",
   "id": "b4a4ce8e",
   "metadata": {},
   "source": [
    "#### 7. Create a 3x3 identity matrix (★☆☆)\n",
    "`hint: np.eye`"
   ]
  },
  {
   "cell_type": "code",
   "execution_count": null,
   "id": "74429769",
   "metadata": {},
   "outputs": [],
   "source": [
    "# A what now?\n",
    "np.eye(3, k=1)"
   ]
  },
  {
   "cell_type": "markdown",
   "id": "d0115ef3",
   "metadata": {},
   "source": [
    "#### 8. Create a 3x3x3 array with random values (★☆☆)\n",
    "`hint: np.random.random`"
   ]
  },
  {
   "cell_type": "code",
   "execution_count": 14,
   "id": "69d10028",
   "metadata": {},
   "outputs": [
    {
     "data": {
      "text/plain": [
       "array([[[0.65358959, 0.11500694, 0.95028286],\n",
       "        [0.4821914 , 0.87247454, 0.21233268],\n",
       "        [0.04070962, 0.39719446, 0.2331322 ]],\n",
       "\n",
       "       [[0.84174072, 0.20708234, 0.74246953],\n",
       "        [0.39215413, 0.18225652, 0.74353941],\n",
       "        [0.06958208, 0.8853372 , 0.9526444 ]],\n",
       "\n",
       "       [[0.93114343, 0.41543095, 0.02898166],\n",
       "        [0.98202748, 0.33963768, 0.70668719],\n",
       "        [0.36187707, 0.0351059 , 0.85505825]]])"
      ]
     },
     "execution_count": 14,
     "metadata": {},
     "output_type": "execute_result"
    }
   ],
   "source": [
    "np.random.seed(1000) #?\n",
    "np.random.random((3,3,3))\n"
   ]
  },
  {
   "cell_type": "markdown",
   "id": "17c9274b",
   "metadata": {},
   "source": [
    "#### 9. Create a 10x10 array with random values and find the minimum and maximum values (★☆☆)\n",
    "`hint: min, max`"
   ]
  },
  {
   "cell_type": "code",
   "execution_count": 16,
   "id": "c04b7fa7",
   "metadata": {},
   "outputs": [
    {
     "name": "stdout",
     "output_type": "stream",
     "text": [
      "[[[0.5196043  0.56598883 0.44116739]\n",
      "  [0.13755616 0.21354319 0.13337189]\n",
      "  [0.3222967  0.23388712 0.52749816]]\n",
      "\n",
      " [[0.56597116 0.43822528 0.32187262]\n",
      "  [0.55964081 0.86534558 0.84728288]\n",
      "  [0.10781717 0.31631948 0.40947866]]\n",
      "\n",
      " [[0.68708901 0.70223529 0.44619794]\n",
      "  [0.42032208 0.80263059 0.53861757]\n",
      "  [0.92350049 0.06190754 0.36758345]]]\n",
      "0.061907537224691445\n",
      "0.9235004894140457\n"
     ]
    }
   ],
   "source": [
    "remember_me = np.random.random((3,3,3))\n",
    "print(str(remember_me))\n",
    "print(str(remember_me.min()))\n",
    "print(str(remember_me.max()))"
   ]
  },
  {
   "cell_type": "markdown",
   "id": "c4a82d40",
   "metadata": {},
   "source": [
    "#### 10. Create a random vector of size 30 and find the mean value (★☆☆)\n",
    "`hint: mean`"
   ]
  },
  {
   "cell_type": "code",
   "execution_count": 18,
   "id": "5f332bee",
   "metadata": {},
   "outputs": [
    {
     "name": "stdout",
     "output_type": "stream",
     "text": [
      "[0.48258449 0.47647761 0.44603283 0.81607006 0.27435149 0.06196201\n",
      " 0.96029634 0.45811813 0.75789206 0.6811586  0.54177793 0.13283249\n",
      " 0.25320563 0.44385559 0.55874991 0.81386435 0.31782834 0.39704509\n",
      " 0.89016825 0.82541621 0.10668708 0.15977588 0.65121931 0.56906421\n",
      " 0.98408367 0.74915901 0.80239963 0.22830988 0.51871345 0.6301084 ]\n"
     ]
    },
    {
     "data": {
      "text/plain": [
       "0.53297359842906"
      ]
     },
     "execution_count": 18,
     "metadata": {},
     "output_type": "execute_result"
    }
   ],
   "source": [
    "remember_me = np.random.random((30))\n",
    "print(str(remember_me))\n",
    "remember_me.mean() "
   ]
  },
  {
   "cell_type": "markdown",
   "id": "12978577",
   "metadata": {},
   "source": [
    "#### 11. Create a 5x5 matrix with values 1,2,3,4 just below the diagonal (★☆☆)\n",
    "`hint: np.diag`"
   ]
  },
  {
   "cell_type": "code",
   "execution_count": 37,
   "id": "33656de6",
   "metadata": {},
   "outputs": [
    {
     "name": "stdout",
     "output_type": "stream",
     "text": [
      "[[0 0 0 0 0]\n",
      " [1 0 0 0 0]\n",
      " [0 2 0 0 0]\n",
      " [0 0 3 0 0]\n",
      " [0 0 0 4 0]]\n"
     ]
    }
   ],
   "source": [
    "# that was a curveball\n",
    "fiver_matrix = np.diagflat([1,2,3,4], -1)\n",
    "print(str(fiver_matrix))\n"
   ]
  },
  {
   "cell_type": "markdown",
   "id": "ea166b2f",
   "metadata": {},
   "source": [
    "#### 12. Normalize a 5x5 random matrix (★☆☆)\n",
    "`hint: (x -mean)/std`"
   ]
  },
  {
   "cell_type": "code",
   "execution_count": 44,
   "id": "cad963e7",
   "metadata": {},
   "outputs": [
    {
     "name": "stdout",
     "output_type": "stream",
     "text": [
      "[[0.98114044 0.89662233 0.53319582 0.03514239 0.83771878]\n",
      " [0.90390791 0.63034084 0.28100079 0.93270378 0.01791405]\n",
      " [0.32063769 0.35118622 0.84920097 0.0043367  0.64806747]\n",
      " [0.55551553 0.33740075 0.08523243 0.14664603 0.65784615]\n",
      " [0.04582828 0.06191159 0.45783951 0.52105861 0.01555496]]\n"
     ]
    }
   ],
   "source": [
    "remember_me = np.random.random((5,5))\n",
    "my_mean = remember_me.mean()\n",
    "my_standard_deviation = remember_me.std()\n",
    "with np.nditer(remember_me, op_flags=['readwrite']) as iterate_through_me:\n",
    "    for normalized_value in iterate_through_me:\n",
    "        normalized_value = (normalized_value-my_mean ) / my_standard_deviation \n",
    "print(str(remember_me ))"
   ]
  },
  {
   "cell_type": "markdown",
   "id": "08dcdbcf",
   "metadata": {},
   "source": [
    "#### 13. How to find common values between two arrays? (★☆☆)\n",
    "`hint: np.intersect1d`"
   ]
  },
  {
   "cell_type": "code",
   "execution_count": 42,
   "id": "49870b3a",
   "metadata": {},
   "outputs": [
    {
     "data": {
      "text/plain": [
       "array([1, 3])"
      ]
     },
     "execution_count": 42,
     "metadata": {},
     "output_type": "execute_result"
    }
   ],
   "source": [
    "np.intersect1d([1, 3, 4, 3], [3, 1, 2, 1])"
   ]
  },
  {
   "cell_type": "markdown",
   "id": "0f60eb40",
   "metadata": {},
   "source": [
    "#### 14. Create a random vector of size 10 and sort it (★★☆)\n",
    "`hint: sort`"
   ]
  },
  {
   "cell_type": "code",
   "execution_count": 47,
   "id": "d4a051e2",
   "metadata": {},
   "outputs": [
    {
     "name": "stdout",
     "output_type": "stream",
     "text": [
      "[0.12123591 0.14461898 0.27283478 0.38831108 0.45639316 0.66949207\n",
      " 0.74230176 0.77995504 0.98216764 0.98839328]\n"
     ]
    }
   ],
   "source": [
    "print(str(np.sort(np.random.random((10)))))"
   ]
  },
  {
   "cell_type": "markdown",
   "id": "1569880a",
   "metadata": {},
   "source": [
    "#### 15. Create random vector of size 10 and replace the maximum value by 0 (★★☆)\n",
    "`hint: argmax`"
   ]
  },
  {
   "cell_type": "code",
   "execution_count": 51,
   "id": "37436e64",
   "metadata": {},
   "outputs": [
    {
     "name": "stdout",
     "output_type": "stream",
     "text": [
      "[0.49714374 0.91632645 0.12732982 0.50794403 0.07031555 0.63187394\n",
      " 0.24285126 0.13779269 0.24031744 0.36967976]\n",
      "[0.49714374 0.         0.12732982 0.50794403 0.07031555 0.63187394\n",
      " 0.24285126 0.13779269 0.24031744 0.36967976]\n"
     ]
    }
   ],
   "source": [
    "remember_me = np.random.random((10))\n",
    "print(str(remember_me))\n",
    "remember_me[np.argmax(remember_me)] = 0\n",
    "remember_me\n"
   ]
  },
  {
   "cell_type": "markdown",
   "id": "d53427a5",
   "metadata": {},
   "source": [
    "#### 16. Subtract the mean of each row of a matrix (★★☆)\n",
    "`hint: mean(axis=,keepdims=)`"
   ]
  },
  {
   "cell_type": "code",
   "execution_count": 76,
   "id": "cee9f259",
   "metadata": {},
   "outputs": [
    {
     "name": "stdout",
     "output_type": "stream",
     "text": [
      "[[0.95085504 0.01700526 0.1606255  0.13630294 0.84578035]\n",
      " [0.68887179 0.65619176 0.79591354 0.19598444 0.81593675]\n",
      " [0.31732619 0.03853339 0.45136664 0.83896988 0.09555471]\n",
      " [0.76593594 0.13538339 0.78966134 0.27841027 0.80856534]\n",
      " [0.15440397 0.73016279 0.0194405  0.84345707 0.55173149]]\n",
      "[[ 0.52874122 -0.61357439 -0.18772466 -0.41928831  0.38594119]\n",
      " [ 0.26675797  0.0256121   0.44756338 -0.35960682  0.35609759]\n",
      " [-0.10478763 -0.59204626  0.10301648  0.28337863 -0.36428446]\n",
      " [ 0.34382212 -0.49519626  0.44131118 -0.27718099  0.34872618]\n",
      " [-0.26770985  0.09958313 -0.32890966  0.28786581  0.09189232]]\n"
     ]
    }
   ],
   "source": [
    "remember_me = np.random.random((5,5))\n",
    "print(str(remember_me))\n",
    "my_number_of_colums = remember_me.shape[0]\n",
    "my_number_of_rows= remember_me.shape[1]\n",
    "my_means = np.mean(remember_me , axis=1, keepdims = True)\n",
    "\n",
    "for i in range(0,my_number_of_rows):\n",
    "    rows_mean = my_means[i]\n",
    "    for j in range(0,my_number_of_colums):\n",
    "        remember_me[j,i] = remember_me[j,i]-rows_mean\n",
    "\n",
    "print(remember_me)"
   ]
  },
  {
   "cell_type": "markdown",
   "id": "60e8a537",
   "metadata": {},
   "source": [
    "#### 17. How to get the n largest values of an array (★★★)\n",
    "`Z = np.arange(10000)\n",
    "np.random.shuffle(Z)\n",
    "n = 5\n",
    "hint: np.argsort | np.argpartition`"
   ]
  },
  {
   "cell_type": "code",
   "execution_count": 73,
   "id": "00a631f5",
   "metadata": {},
   "outputs": [
    {
     "name": "stdout",
     "output_type": "stream",
     "text": [
      "9999\n",
      "9998\n",
      "9997\n",
      "9996\n",
      "9995\n"
     ]
    }
   ],
   "source": [
    "Z = np.arange(10000)\n",
    "np.random.shuffle(Z)\n",
    "n=5\n",
    "sorted_indizies = np.argsort(Z).tolist()\n",
    "sorted_indizies.reverse()\n",
    "for indizie_index in range(0,n):\n",
    "    print(Z[sorted_indizies[indizie_index ]])\n"
   ]
  },
  {
   "cell_type": "markdown",
   "id": "bd5ff56d",
   "metadata": {},
   "source": [
    "#### 18. Create a random 5*3 matrix and replace items that are larger than 4 by their squares ( Example:  6 --> 36) \n",
    "`hint: np.where`"
   ]
  },
  {
   "cell_type": "code",
   "execution_count": 110,
   "id": "3f0ba7b4",
   "metadata": {},
   "outputs": [
    {
     "name": "stdout",
     "output_type": "stream",
     "text": [
      "[[4.10570677 5.79684124 3.38262835]\n",
      " [9.27065821 4.74792803 8.98202613]\n",
      " [1.4938061  1.34901437 6.15367126]\n",
      " [3.99384453 3.42950329 2.0285625 ]\n",
      " [5.513233   6.75928724 5.21556072]]\n"
     ]
    },
    {
     "data": {
      "text/plain": [
       "array([[16.8568281 , 33.60336838,  3.38262835],\n",
       "       [85.9451037 , 22.54282057, 80.67679344],\n",
       "       [ 1.4938061 ,  1.34901437, 37.86766995],\n",
       "       [ 3.99384453,  3.42950329,  2.0285625 ],\n",
       "       [30.39573809, 45.68796393, 27.2020736 ]])"
      ]
     },
     "execution_count": 110,
     "metadata": {},
     "output_type": "execute_result"
    }
   ],
   "source": [
    "remember_me = np.random.random((5,3))\n",
    "remember_me = np.multiply(remember_me,10) # otherwise the where doesn't find anything\n",
    "\n",
    "remember_me_different = np.reshape(remember_me,15)\n",
    "print(str(remember_me))\n",
    "remember_me = np.where(remember_me_different < 4.0, remember_me_different, remember_me_different*remember_me_different)\n",
    "remember_me  = remember_me.reshape(5,3)\n",
    "remember_me"
   ]
  },
  {
   "cell_type": "code",
   "execution_count": null,
   "id": "533f6dea",
   "metadata": {},
   "outputs": [],
   "source": []
  }
 ],
 "metadata": {
  "kernelspec": {
   "display_name": "Python 3",
   "language": "python",
   "name": "python3"
  },
  "language_info": {
   "codemirror_mode": {
    "name": "ipython",
    "version": 3
   },
   "file_extension": ".py",
   "mimetype": "text/x-python",
   "name": "python",
   "nbconvert_exporter": "python",
   "pygments_lexer": "ipython3",
   "version": "3.8.8"
  }
 },
 "nbformat": 4,
 "nbformat_minor": 5
}
